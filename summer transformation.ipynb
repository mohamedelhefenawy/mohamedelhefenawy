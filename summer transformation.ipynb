{
 "cells": [
  {
   "cell_type": "code",
   "execution_count": 2,
   "metadata": {
    "_cell_guid": "b1076dfc-b9ad-4769-8c92-a6c4dae69d19",
    "_uuid": "8f2839f25d086af736a60e9eeb907d3b93b6e0e5",
    "execution": {
     "iopub.execute_input": "2022-09-15T10:24:34.742044Z",
     "iopub.status.busy": "2022-09-15T10:24:34.741263Z",
     "iopub.status.idle": "2022-09-15T10:24:34.761446Z",
     "shell.execute_reply": "2022-09-15T10:24:34.760322Z",
     "shell.execute_reply.started": "2022-09-15T10:24:34.742005Z"
    }
   },
   "outputs": [],
   "source": [
    "import numpy as np \n",
    "import pandas as pd \n",
    "import matplotlib.pyplot as plt\n",
    "import seaborn as sns\n",
    "#import statistics\n",
    "import scipy.stats as stats"
   ]
  },
  {
   "cell_type": "code",
   "execution_count": 3,
   "metadata": {
    "execution": {
     "iopub.execute_input": "2022-09-15T11:02:39.222454Z",
     "iopub.status.busy": "2022-09-15T11:02:39.222109Z",
     "iopub.status.idle": "2022-09-15T11:02:39.405363Z",
     "shell.execute_reply": "2022-09-15T11:02:39.404370Z",
     "shell.execute_reply.started": "2022-09-15T11:02:39.222426Z"
    }
   },
   "outputs": [
    {
     "name": "stderr",
     "output_type": "stream",
     "text": [
      "C:\\Users\\7fno\\AppData\\Local\\Temp/ipykernel_3504/3473320341.py:8: FutureWarning: The default value of regex will change from True to False in a future version. In addition, single character regular expressions will *not* be treated as literal strings when regex=True.\n",
      "  data['cost']=data['cost'].str.replace(\"€\",'').str.replace('m',\"0000\").str.replace(\".\",\"\").str.replace(\"Th\",\"000\").astype('float64')\n"
     ]
    },
    {
     "data": {
      "text/html": [
       "<div>\n",
       "<style scoped>\n",
       "    .dataframe tbody tr th:only-of-type {\n",
       "        vertical-align: middle;\n",
       "    }\n",
       "\n",
       "    .dataframe tbody tr th {\n",
       "        vertical-align: top;\n",
       "    }\n",
       "\n",
       "    .dataframe thead th {\n",
       "        text-align: right;\n",
       "    }\n",
       "</style>\n",
       "<table border=\"1\" class=\"dataframe\">\n",
       "  <thead>\n",
       "    <tr style=\"text-align: right;\">\n",
       "      <th></th>\n",
       "      <th>position</th>\n",
       "      <th>age</th>\n",
       "      <th>origin_club</th>\n",
       "      <th>league_origin_club</th>\n",
       "      <th>country_origin_club</th>\n",
       "      <th>new_club</th>\n",
       "      <th>league_new_club</th>\n",
       "      <th>country_new_club</th>\n",
       "      <th>cost</th>\n",
       "    </tr>\n",
       "  </thead>\n",
       "  <tbody>\n",
       "    <tr>\n",
       "      <th>0</th>\n",
       "      <td>Centre-Forward</td>\n",
       "      <td>22.0</td>\n",
       "      <td>OGC Nice</td>\n",
       "      <td>Ligue 1</td>\n",
       "      <td>France</td>\n",
       "      <td>Stade Rennais FC</td>\n",
       "      <td>Ligue 1</td>\n",
       "      <td>France</td>\n",
       "      <td>42000000.0</td>\n",
       "    </tr>\n",
       "    <tr>\n",
       "      <th>1</th>\n",
       "      <td>Centre-Forward</td>\n",
       "      <td>25.0</td>\n",
       "      <td>UD Almería</td>\n",
       "      <td>LaLiga</td>\n",
       "      <td>Spain</td>\n",
       "      <td>Real Sociedad</td>\n",
       "      <td>LaLiga</td>\n",
       "      <td>Spain</td>\n",
       "      <td>18000000.0</td>\n",
       "    </tr>\n",
       "    <tr>\n",
       "      <th>2</th>\n",
       "      <td>Central Midfield</td>\n",
       "      <td>25.0</td>\n",
       "      <td>Valencia CF</td>\n",
       "      <td>LaLiga</td>\n",
       "      <td>Spain</td>\n",
       "      <td>Paris Saint-Germain</td>\n",
       "      <td>Ligue 1</td>\n",
       "      <td>France</td>\n",
       "      <td>50000000.0</td>\n",
       "    </tr>\n",
       "    <tr>\n",
       "      <th>3</th>\n",
       "      <td>Centre-Back</td>\n",
       "      <td>27.0</td>\n",
       "      <td>Borussia Dortmund</td>\n",
       "      <td>Bundesliga</td>\n",
       "      <td>Germany</td>\n",
       "      <td>Manchester City</td>\n",
       "      <td>Premier League</td>\n",
       "      <td>England</td>\n",
       "      <td>30000000.0</td>\n",
       "    </tr>\n",
       "    <tr>\n",
       "      <th>4</th>\n",
       "      <td>Centre-Back</td>\n",
       "      <td>24.0</td>\n",
       "      <td>Stade Reims</td>\n",
       "      <td>Ligue 1</td>\n",
       "      <td>France</td>\n",
       "      <td>Leicester City</td>\n",
       "      <td>Premier League</td>\n",
       "      <td>England</td>\n",
       "      <td>10000000.0</td>\n",
       "    </tr>\n",
       "    <tr>\n",
       "      <th>5</th>\n",
       "      <td>Defensive Midfield</td>\n",
       "      <td>27.0</td>\n",
       "      <td>Wolverhampton Wanderers</td>\n",
       "      <td>Premier League</td>\n",
       "      <td>England</td>\n",
       "      <td>Aston Villa</td>\n",
       "      <td>Premier League</td>\n",
       "      <td>England</td>\n",
       "      <td>28000000.0</td>\n",
       "    </tr>\n",
       "    <tr>\n",
       "      <th>6</th>\n",
       "      <td>Centre-Forward</td>\n",
       "      <td>28.0</td>\n",
       "      <td>Stade Rennais FC</td>\n",
       "      <td>Ligue 1</td>\n",
       "      <td>France</td>\n",
       "      <td>OGC Nice</td>\n",
       "      <td>Ligue 1</td>\n",
       "      <td>France</td>\n",
       "      <td>18000000.0</td>\n",
       "    </tr>\n",
       "    <tr>\n",
       "      <th>7</th>\n",
       "      <td>Centre-Forward</td>\n",
       "      <td>33.0</td>\n",
       "      <td>FC Barcelona</td>\n",
       "      <td>LaLiga</td>\n",
       "      <td>Spain</td>\n",
       "      <td>Chelsea FC</td>\n",
       "      <td>Premier League</td>\n",
       "      <td>England</td>\n",
       "      <td>15000000.0</td>\n",
       "    </tr>\n",
       "    <tr>\n",
       "      <th>8</th>\n",
       "      <td>Centre-Forward</td>\n",
       "      <td>22.0</td>\n",
       "      <td>FC Groningen</td>\n",
       "      <td>Eredivisie</td>\n",
       "      <td>Netherlands</td>\n",
       "      <td>Celta de Vigo</td>\n",
       "      <td>LaLiga</td>\n",
       "      <td>Spain</td>\n",
       "      <td>6000000.0</td>\n",
       "    </tr>\n",
       "    <tr>\n",
       "      <th>9</th>\n",
       "      <td>Central Midfield</td>\n",
       "      <td>21.0</td>\n",
       "      <td>Chelsea FC</td>\n",
       "      <td>Premier League</td>\n",
       "      <td>England</td>\n",
       "      <td>Brighton &amp; Hove Albion</td>\n",
       "      <td>Premier League</td>\n",
       "      <td>England</td>\n",
       "      <td>12000000.0</td>\n",
       "    </tr>\n",
       "  </tbody>\n",
       "</table>\n",
       "</div>"
      ],
      "text/plain": [
       "             position   age              origin_club league_origin_club  \\\n",
       "0      Centre-Forward  22.0                 OGC Nice            Ligue 1   \n",
       "1      Centre-Forward  25.0               UD Almería             LaLiga   \n",
       "2    Central Midfield  25.0              Valencia CF             LaLiga   \n",
       "3         Centre-Back  27.0        Borussia Dortmund         Bundesliga   \n",
       "4         Centre-Back  24.0              Stade Reims            Ligue 1   \n",
       "5  Defensive Midfield  27.0  Wolverhampton Wanderers     Premier League   \n",
       "6      Centre-Forward  28.0         Stade Rennais FC            Ligue 1   \n",
       "7      Centre-Forward  33.0             FC Barcelona             LaLiga   \n",
       "8      Centre-Forward  22.0             FC Groningen         Eredivisie   \n",
       "9    Central Midfield  21.0               Chelsea FC     Premier League   \n",
       "\n",
       "  country_origin_club                new_club league_new_club  \\\n",
       "0              France        Stade Rennais FC         Ligue 1   \n",
       "1               Spain           Real Sociedad          LaLiga   \n",
       "2               Spain     Paris Saint-Germain         Ligue 1   \n",
       "3             Germany         Manchester City  Premier League   \n",
       "4              France          Leicester City  Premier League   \n",
       "5             England             Aston Villa  Premier League   \n",
       "6              France                OGC Nice         Ligue 1   \n",
       "7               Spain              Chelsea FC  Premier League   \n",
       "8         Netherlands           Celta de Vigo          LaLiga   \n",
       "9             England  Brighton & Hove Albion  Premier League   \n",
       "\n",
       "  country_new_club        cost  \n",
       "0           France  42000000.0  \n",
       "1            Spain  18000000.0  \n",
       "2           France  50000000.0  \n",
       "3          England  30000000.0  \n",
       "4          England  10000000.0  \n",
       "5          England  28000000.0  \n",
       "6           France  18000000.0  \n",
       "7          England  15000000.0  \n",
       "8            Spain   6000000.0  \n",
       "9          England  12000000.0  "
      ]
     },
     "execution_count": 3,
     "metadata": {},
     "output_type": "execute_result"
    }
   ],
   "source": [
    "data=pd.read_csv(\"D:/ML/Summer22_FootballTransfers.csv\")\n",
    "\n",
    "# dropping cost and date of transfer\n",
    "data = data.drop('name',axis=1)\n",
    "data = data.drop('date_of_transfer',axis=1)\n",
    "\n",
    "# dropping '€' , '.' , 'm' , 'Th'\n",
    "data['cost']=data['cost'].str.replace(\"€\",'').str.replace('m',\"0000\").str.replace(\".\",\"\").str.replace(\"Th\",\"000\").astype('float64')\n",
    "\n",
    "data.head(10)"
   ]
  },
  {
   "cell_type": "code",
   "execution_count": 4,
   "metadata": {
    "execution": {
     "iopub.execute_input": "2022-09-15T10:27:26.716692Z",
     "iopub.status.busy": "2022-09-15T10:27:26.716115Z",
     "iopub.status.idle": "2022-09-15T10:27:26.746896Z",
     "shell.execute_reply": "2022-09-15T10:27:26.745527Z",
     "shell.execute_reply.started": "2022-09-15T10:27:26.716659Z"
    }
   },
   "outputs": [
    {
     "name": "stdout",
     "output_type": "stream",
     "text": [
      "<class 'pandas.core.frame.DataFrame'>\n",
      "RangeIndex: 33625 entries, 0 to 33624\n",
      "Data columns (total 9 columns):\n",
      " #   Column               Non-Null Count  Dtype  \n",
      "---  ------               --------------  -----  \n",
      " 0   position             33615 non-null  object \n",
      " 1   age                  33477 non-null  float64\n",
      " 2   origin_club          33620 non-null  object \n",
      " 3   league_origin_club   32685 non-null  object \n",
      " 4   country_origin_club  32690 non-null  object \n",
      " 5   new_club             33615 non-null  object \n",
      " 6   league_new_club      28047 non-null  object \n",
      " 7   country_new_club     28051 non-null  object \n",
      " 8   cost                 33621 non-null  float64\n",
      "dtypes: float64(2), object(7)\n",
      "memory usage: 2.3+ MB\n"
     ]
    }
   ],
   "source": [
    "data.info()"
   ]
  },
  {
   "cell_type": "code",
   "execution_count": 5,
   "metadata": {},
   "outputs": [
    {
     "data": {
      "text/plain": [
       "position               0.000297\n",
       "age                    0.004401\n",
       "origin_club            0.000149\n",
       "league_origin_club     0.027955\n",
       "country_origin_club    0.027807\n",
       "new_club               0.000297\n",
       "league_new_club        0.165888\n",
       "country_new_club       0.165770\n",
       "cost                   0.000119\n",
       "dtype: float64"
      ]
     },
     "execution_count": 5,
     "metadata": {},
     "output_type": "execute_result"
    }
   ],
   "source": [
    "data.isnull().mean()"
   ]
  },
  {
   "cell_type": "code",
   "execution_count": 6,
   "metadata": {
    "execution": {
     "iopub.execute_input": "2022-09-15T10:28:31.251881Z",
     "iopub.status.busy": "2022-09-15T10:28:31.251493Z",
     "iopub.status.idle": "2022-09-15T10:28:31.323146Z",
     "shell.execute_reply": "2022-09-15T10:28:31.322115Z",
     "shell.execute_reply.started": "2022-09-15T10:28:31.251849Z"
    }
   },
   "outputs": [
    {
     "name": "stdout",
     "output_type": "stream",
     "text": [
      "45\n",
      "0\n"
     ]
    }
   ],
   "source": [
    "# knowledge numper of duplication\n",
    "print(sum(data.duplicated())) \n",
    "\n",
    "# deleting duplication\n",
    "data.drop_duplicates(inplace=True)\n",
    "print(sum(data.duplicated()))"
   ]
  },
  {
   "cell_type": "code",
   "execution_count": 7,
   "metadata": {
    "execution": {
     "iopub.execute_input": "2022-09-15T10:30:56.390985Z",
     "iopub.status.busy": "2022-09-15T10:30:56.390580Z",
     "iopub.status.idle": "2022-09-15T10:30:56.410098Z",
     "shell.execute_reply": "2022-09-15T10:30:56.408883Z",
     "shell.execute_reply.started": "2022-09-15T10:30:56.390944Z"
    }
   },
   "outputs": [
    {
     "data": {
      "text/plain": [
       "position                 10\n",
       "age                     147\n",
       "origin_club               5\n",
       "league_origin_club      940\n",
       "country_origin_club     935\n",
       "new_club                 10\n",
       "league_new_club        5558\n",
       "country_new_club       5554\n",
       "cost                      4\n",
       "dtype: int64"
      ]
     },
     "execution_count": 7,
     "metadata": {},
     "output_type": "execute_result"
    }
   ],
   "source": [
    "# knowledge the nuns\n",
    "data.isnull().sum()"
   ]
  },
  {
   "cell_type": "code",
   "execution_count": 91,
   "metadata": {},
   "outputs": [],
   "source": [
    "def diagnostic_plots(df, variable):\n",
    "    # function takes a dataframe (df) and\n",
    "    # the variable of interest as arguments\n",
    "\n",
    "    # define figure size\n",
    "    plt.figure(figsize=(16, 4))\n",
    "\n",
    "    # histogram\n",
    "    plt.subplot(1, 3, 1)\n",
    "    sns.distplot(df[variable], bins=30)\n",
    "    plt.title('Histogram')\n",
    "\n",
    "    # Q-Q plot\n",
    "    plt.subplot(1, 3, 2)\n",
    "    stats.probplot(df[variable], dist=\"norm\" )\n",
    "    \n",
    "\n",
    "    # boxplot\n",
    "    plt.subplot(1, 3, 3)\n",
    "    sns.boxplot(y=df[variable])\n",
    "    plt.title('Boxplot')\n",
    "\n",
    "    plt.show()"
   ]
  },
  {
   "cell_type": "code",
   "execution_count": 92,
   "metadata": {},
   "outputs": [
    {
     "name": "stderr",
     "output_type": "stream",
     "text": [
      "C:\\Users\\7fno\\anaconda3\\lib\\site-packages\\seaborn\\distributions.py:2619: FutureWarning: `distplot` is a deprecated function and will be removed in a future version. Please adapt your code to use either `displot` (a figure-level function with similar flexibility) or `histplot` (an axes-level function for histograms).\n",
      "  warnings.warn(msg, FutureWarning)\n"
     ]
    },
    {
     "data": {
      "image/png": "[encoded data removed]",
      "text/plain": [
       "<Figure size 1152x288 with 3 Axes>"
      ]
     },
     "metadata": {
      "needs_background": "light"
     },
     "output_type": "display_data"
    }
   ],
   "source": [
    "diagnostic_plots(data , 'age')"
   ]
  },
  {
   "cell_type": "code",
   "execution_count": 93,
   "metadata": {},
   "outputs": [
    {
     "data": {
      "text/plain": [
       "39.378315037835556"
      ]
     },
     "execution_count": 93,
     "metadata": {},
     "output_type": "execute_result"
    }
   ],
   "source": [
    "upper_age = data['age'].mean()+(3*data['age'].std())\n",
    "upper_age"
   ]
  },
  {
   "cell_type": "code",
   "execution_count": 94,
   "metadata": {},
   "outputs": [
    {
     "name": "stdout",
     "output_type": "stream",
     "text": [
      "outlier in the age : 66\n"
     ]
    }
   ],
   "source": [
    "print('outlier in the age : {}' . format(len(data[data['age']>upper_age])))"
   ]
  },
  {
   "cell_type": "code",
   "execution_count": null,
   "metadata": {},
   "outputs": [],
   "source": []
  },
  {
   "cell_type": "code",
   "execution_count": null,
   "metadata": {},
   "outputs": [],
   "source": []
  },
  {
   "cell_type": "code",
   "execution_count": null,
   "metadata": {},
   "outputs": [],
   "source": []
  },
  {
   "cell_type": "code",
   "execution_count": null,
   "metadata": {},
   "outputs": [],
   "source": []
  },
  {
   "cell_type": "code",
   "execution_count": null,
   "metadata": {},
   "outputs": [],
   "source": []
  },
  {
   "cell_type": "markdown",
   "metadata": {},
   "source": []
  },
  {
   "cell_type": "code",
   "execution_count": 95,
   "metadata": {
    "_cell_guid": "b1076dfc-b9ad-4769-8c92-a6c4dae69d19",
    "_uuid": "8f2839f25d086af736a60e9eeb907d3b93b6e0e5",
    "execution": {
     "iopub.execute_input": "2022-09-15T10:47:04.211137Z",
     "iopub.status.busy": "2022-09-15T10:47:04.210741Z",
     "iopub.status.idle": "2022-09-15T10:47:04.637139Z",
     "shell.execute_reply": "2022-09-15T10:47:04.636142Z",
     "shell.execute_reply.started": "2022-09-15T10:47:04.211107Z"
    }
   },
   "outputs": [],
   "source": [
    "#transform data from categorical to numerical\n",
    "from sklearn.preprocessing import LabelEncoder\n",
    "lbl = LabelEncoder()\n",
    "data['position'] = lbl.fit_transform(data['position'])\n",
    "data['origin_club'] = lbl.fit_transform(data['origin_club'])\n",
    "data['league_origin_club'] = lbl.fit_transform(data['league_origin_club'])\n",
    "data['country_origin_club'] = lbl.fit_transform(data['country_origin_club'])\n",
    "data['new_club']=lbl.fit_transform(data['new_club'])\n",
    "data['league_new_club']=lbl.fit_transform(data['league_new_club'])\n",
    "data['country_new_club']=lbl.fit_transform(data['country_new_club'])\n",
    "\n"
   ]
  },
  {
   "cell_type": "code",
   "execution_count": 96,
   "metadata": {},
   "outputs": [
    {
     "data": {
      "text/html": [
       "<div>\n",
       "<style scoped>\n",
       "    .dataframe tbody tr th:only-of-type {\n",
       "        vertical-align: middle;\n",
       "    }\n",
       "\n",
       "    .dataframe tbody tr th {\n",
       "        vertical-align: top;\n",
       "    }\n",
       "\n",
       "    .dataframe thead th {\n",
       "        text-align: right;\n",
       "    }\n",
       "</style>\n",
       "<table border=\"1\" class=\"dataframe\">\n",
       "  <thead>\n",
       "    <tr style=\"text-align: right;\">\n",
       "      <th></th>\n",
       "      <th>position</th>\n",
       "      <th>age</th>\n",
       "      <th>origin_club</th>\n",
       "      <th>league_origin_club</th>\n",
       "      <th>country_origin_club</th>\n",
       "      <th>new_club</th>\n",
       "      <th>league_new_club</th>\n",
       "      <th>country_new_club</th>\n",
       "      <th>cost</th>\n",
       "    </tr>\n",
       "  </thead>\n",
       "  <tbody>\n",
       "    <tr>\n",
       "      <th>count</th>\n",
       "      <td>33580.000000</td>\n",
       "      <td>33433.000000</td>\n",
       "      <td>33580.000000</td>\n",
       "      <td>33580.000000</td>\n",
       "      <td>33580.000000</td>\n",
       "      <td>33580.000000</td>\n",
       "      <td>33580.000000</td>\n",
       "      <td>33580.000000</td>\n",
       "      <td>3.357600e+04</td>\n",
       "    </tr>\n",
       "    <tr>\n",
       "      <th>mean</th>\n",
       "      <td>4.914592</td>\n",
       "      <td>25.025274</td>\n",
       "      <td>3043.239130</td>\n",
       "      <td>250.290381</td>\n",
       "      <td>80.892764</td>\n",
       "      <td>3626.121263</td>\n",
       "      <td>275.846546</td>\n",
       "      <td>83.307594</td>\n",
       "      <td>4.788591e+05</td>\n",
       "    </tr>\n",
       "    <tr>\n",
       "      <th>std</th>\n",
       "      <td>3.760834</td>\n",
       "      <td>4.784347</td>\n",
       "      <td>1704.350003</td>\n",
       "      <td>132.380775</td>\n",
       "      <td>43.134023</td>\n",
       "      <td>1990.769064</td>\n",
       "      <td>145.482846</td>\n",
       "      <td>42.136920</td>\n",
       "      <td>2.430850e+06</td>\n",
       "    </tr>\n",
       "    <tr>\n",
       "      <th>min</th>\n",
       "      <td>0.000000</td>\n",
       "      <td>15.000000</td>\n",
       "      <td>0.000000</td>\n",
       "      <td>0.000000</td>\n",
       "      <td>0.000000</td>\n",
       "      <td>0.000000</td>\n",
       "      <td>0.000000</td>\n",
       "      <td>0.000000</td>\n",
       "      <td>8.000000e+03</td>\n",
       "    </tr>\n",
       "    <tr>\n",
       "      <th>25%</th>\n",
       "      <td>2.000000</td>\n",
       "      <td>21.000000</td>\n",
       "      <td>1621.000000</td>\n",
       "      <td>138.000000</td>\n",
       "      <td>50.000000</td>\n",
       "      <td>1906.000000</td>\n",
       "      <td>159.000000</td>\n",
       "      <td>47.000000</td>\n",
       "      <td>5.000000e+04</td>\n",
       "    </tr>\n",
       "    <tr>\n",
       "      <th>50%</th>\n",
       "      <td>4.000000</td>\n",
       "      <td>24.000000</td>\n",
       "      <td>3034.000000</td>\n",
       "      <td>303.000000</td>\n",
       "      <td>67.000000</td>\n",
       "      <td>3752.000000</td>\n",
       "      <td>316.000000</td>\n",
       "      <td>85.000000</td>\n",
       "      <td>1.000000e+05</td>\n",
       "    </tr>\n",
       "    <tr>\n",
       "      <th>75%</th>\n",
       "      <td>8.000000</td>\n",
       "      <td>28.000000</td>\n",
       "      <td>4532.000000</td>\n",
       "      <td>361.000000</td>\n",
       "      <td>122.000000</td>\n",
       "      <td>5578.250000</td>\n",
       "      <td>387.000000</td>\n",
       "      <td>120.000000</td>\n",
       "      <td>2.500000e+05</td>\n",
       "    </tr>\n",
       "    <tr>\n",
       "      <th>max</th>\n",
       "      <td>16.000000</td>\n",
       "      <td>46.000000</td>\n",
       "      <td>5819.000000</td>\n",
       "      <td>462.000000</td>\n",
       "      <td>153.000000</td>\n",
       "      <td>6317.000000</td>\n",
       "      <td>463.000000</td>\n",
       "      <td>139.000000</td>\n",
       "      <td>1.500000e+08</td>\n",
       "    </tr>\n",
       "  </tbody>\n",
       "</table>\n",
       "</div>"
      ],
      "text/plain": [
       "           position           age   origin_club  league_origin_club  \\\n",
       "count  33580.000000  33433.000000  33580.000000        33580.000000   \n",
       "mean       4.914592     25.025274   3043.239130          250.290381   \n",
       "std        3.760834      4.784347   1704.350003          132.380775   \n",
       "min        0.000000     15.000000      0.000000            0.000000   \n",
       "25%        2.000000     21.000000   1621.000000          138.000000   \n",
       "50%        4.000000     24.000000   3034.000000          303.000000   \n",
       "75%        8.000000     28.000000   4532.000000          361.000000   \n",
       "max       16.000000     46.000000   5819.000000          462.000000   \n",
       "\n",
       "       country_origin_club      new_club  league_new_club  country_new_club  \\\n",
       "count         33580.000000  33580.000000     33580.000000      33580.000000   \n",
       "mean             80.892764   3626.121263       275.846546         83.307594   \n",
       "std              43.134023   1990.769064       145.482846         42.136920   \n",
       "min               0.000000      0.000000         0.000000          0.000000   \n",
       "25%              50.000000   1906.000000       159.000000         47.000000   \n",
       "50%              67.000000   3752.000000       316.000000         85.000000   \n",
       "75%             122.000000   5578.250000       387.000000        120.000000   \n",
       "max             153.000000   6317.000000       463.000000        139.000000   \n",
       "\n",
       "               cost  \n",
       "count  3.357600e+04  \n",
       "mean   4.788591e+05  \n",
       "std    2.430850e+06  \n",
       "min    8.000000e+03  \n",
       "25%    5.000000e+04  \n",
       "50%    1.000000e+05  \n",
       "75%    2.500000e+05  \n",
       "max    1.500000e+08  "
      ]
     },
     "execution_count": 96,
     "metadata": {},
     "output_type": "execute_result"
    }
   ],
   "source": [
    "data.describe()"
   ]
  },
  {
   "cell_type": "code",
   "execution_count": 97,
   "metadata": {
    "execution": {
     "iopub.execute_input": "2022-09-15T10:47:07.117315Z",
     "iopub.status.busy": "2022-09-15T10:47:07.116967Z",
     "iopub.status.idle": "2022-09-15T10:47:07.632265Z",
     "shell.execute_reply": "2022-09-15T10:47:07.631175Z",
     "shell.execute_reply.started": "2022-09-15T10:47:07.117286Z"
    }
   },
   "outputs": [
    {
     "data": {
      "text/plain": [
       "<AxesSubplot:>"
      ]
     },
     "execution_count": 97,
     "metadata": {},
     "output_type": "execute_result"
    },
    {
     "data": {
      "image/png": "[encoded data removed]",
      "text/plain": [
       "<Figure size 864x648 with 2 Axes>"
      ]
     },
     "metadata": {
      "needs_background": "light"
     },
     "output_type": "display_data"
    }
   ],
   "source": [
    "# knowledge of the correlation between data and cost\n",
    "cormat = data.corr()\n",
    "f,ax = plt.subplots(figsize =(12,9))\n",
    "sns.heatmap (cormat , vmax = 1, square = True, annot = True)"
   ]
  },
  {
   "cell_type": "code",
   "execution_count": 98,
   "metadata": {
    "execution": {
     "iopub.execute_input": "2022-09-15T10:47:35.242818Z",
     "iopub.status.busy": "2022-09-15T10:47:35.242452Z",
     "iopub.status.idle": "2022-09-15T10:47:35.249424Z",
     "shell.execute_reply": "2022-09-15T10:47:35.248271Z",
     "shell.execute_reply.started": "2022-09-15T10:47:35.242771Z"
    }
   },
   "outputs": [],
   "source": [
    "# split data to X and y\n",
    "X = data.drop('cost',axis=1)\n",
    "y = data['cost']"
   ]
  },
  {
   "cell_type": "code",
   "execution_count": 99,
   "metadata": {
    "execution": {
     "iopub.execute_input": "2022-09-15T10:47:42.732352Z",
     "iopub.status.busy": "2022-09-15T10:47:42.731683Z",
     "iopub.status.idle": "2022-09-15T10:47:42.789079Z",
     "shell.execute_reply": "2022-09-15T10:47:42.788155Z",
     "shell.execute_reply.started": "2022-09-15T10:47:42.732317Z"
    }
   },
   "outputs": [
    {
     "data": {
      "text/plain": [
       "(26864, 8)"
      ]
     },
     "execution_count": 99,
     "metadata": {},
     "output_type": "execute_result"
    }
   ],
   "source": [
    "# Splitting data \n",
    "from sklearn.model_selection import train_test_split\n",
    "X_train,X_test,y_train,y_test = train_test_split(X,y , test_size=.2)\n",
    "X_train.shape"
   ]
  },
  {
   "cell_type": "code",
   "execution_count": 100,
   "metadata": {},
   "outputs": [],
   "source": [
    "def impute_na(df ,variable,mean_medain):\n",
    "    return df[variable].fillna(mean_medain)"
   ]
  },
  {
   "cell_type": "code",
   "execution_count": 101,
   "metadata": {},
   "outputs": [],
   "source": [
    "median = X_train['age'].median()\n",
    "mean = X_train['age'].mean()"
   ]
  },
  {
   "cell_type": "code",
   "execution_count": null,
   "metadata": {},
   "outputs": [],
   "source": []
  },
  {
   "cell_type": "code",
   "execution_count": 102,
   "metadata": {},
   "outputs": [],
   "source": [
    " \n",
    "X_train['Age_median'] = impute_na(X_train,'age',median)\n",
    "#X_train['Age_mean'] = impute_na(X_train,'age',mean)\n",
    "\n",
    "X_test['Age_median'] = impute_na(X_test,'age',median)\n",
    "#X_test['Age_mean'] = impute_na(X_test ,'age', mean)\n",
    "\n"
   ]
  },
  {
   "cell_type": "code",
   "execution_count": null,
   "metadata": {},
   "outputs": [],
   "source": []
  },
  {
   "cell_type": "code",
   "execution_count": 103,
   "metadata": {},
   "outputs": [
    {
     "name": "stdout",
     "output_type": "stream",
     "text": [
      "Original Variance is : 22.907780965201162\n",
      "New Variance is : 22.805149779802978\n"
     ]
    },
    {
     "data": {
      "image/png": "[encoded data removed]",
      "text/plain": [
       "<Figure size 432x288 with 1 Axes>"
      ]
     },
     "metadata": {
      "needs_background": "light"
     },
     "output_type": "display_data"
    }
   ],
   "source": [
    "fig = plt.figure()\n",
    "ax = plt.subplot()\n",
    "X_train['age'].plot(kind = 'kde')\n",
    "X_train['Age_median'].plot(kind='kde')\n",
    "#X_train['Age_mean'].plot (kind='kde')\n",
    "\n",
    "lines,labels = ax.get_legend_handles_labels()\n",
    "ax.legend(lines , labels)\n",
    "print ('Original Variance is :',X_train['age'].var())\n",
    "print('New Variance is :' , X_train['Age_median'].var())\n"
   ]
  },
  {
   "cell_type": "code",
   "execution_count": 104,
   "metadata": {},
   "outputs": [
    {
     "name": "stdout",
     "output_type": "stream",
     "text": [
      "Original Variance is : 22.82047717874255\n",
      "New Variance is : 22.752634022751582\n"
     ]
    },
    {
     "data": {
      "image/png": "[encoded data removed]",
      "text/plain": [
       "<Figure size 432x288 with 1 Axes>"
      ]
     },
     "metadata": {
      "needs_background": "light"
     },
     "output_type": "display_data"
    }
   ],
   "source": [
    "fig = plt.figure()\n",
    "ax = plt.subplot()\n",
    "X_test['age'].plot(kind = 'kde')\n",
    "X_test['Age_median'].plot(kind='kde')\n",
    "\n",
    "lines,labels = ax.get_legend_handles_labels()\n",
    "ax.legend(lines , labels)\n",
    "print ('Original Variance is :' ,X_test['age'].var())\n",
    "print('New Variance is :' ,X_test['Age_median'].var())\n"
   ]
  },
  {
   "cell_type": "markdown",
   "metadata": {},
   "source": [
    "Remove outliers from the age"
   ]
  },
  {
   "cell_type": "code",
   "execution_count": 115,
   "metadata": {},
   "outputs": [
    {
     "data": {
      "text/plain": [
       "39.37440488371419"
      ]
     },
     "execution_count": 115,
     "metadata": {},
     "output_type": "execute_result"
    }
   ],
   "source": [
    "age_out = X_train.age.mean()+(3*X_train.age.std())"
   ]
  },
  {
   "cell_type": "code",
   "execution_count": null,
   "metadata": {
    "execution": {
     "iopub.execute_input": "2022-09-15T10:56:48.541954Z",
     "iopub.status.busy": "2022-09-15T10:56:48.541578Z",
     "iopub.status.idle": "2022-09-15T10:56:48.569266Z",
     "shell.execute_reply": "2022-09-15T10:56:48.567860Z",
     "shell.execute_reply.started": "2022-09-15T10:56:48.541923Z"
    }
   },
   "outputs": [],
   "source": [
    "# RANDOM FOREST REGRESSOR\n",
    "from sklearn.ensemble import RandomForestRegressor     \n",
    "model = RandomForestRegressor(n_estimators=300 ,max_depth=20 ,n_jobs = -1,random_state=50)\n",
    "model.fit(X_train,y_train)\n"
   ]
  },
  {
   "cell_type": "code",
   "execution_count": null,
   "metadata": {},
   "outputs": [],
   "source": [
    "y_pred = model.predict(X_test)"
   ]
  },
  {
   "cell_type": "code",
   "execution_count": null,
   "metadata": {},
   "outputs": [],
   "source": [
    "# Mean error\n",
    "from sklearn.metrics import mean_absolute_error\n",
    "mae = mean_absolute_error(y_test, y_pred)/100000\n",
    "mae\n"
   ]
  },
  {
   "cell_type": "code",
   "execution_count": null,
   "metadata": {},
   "outputs": [],
   "source": [
    "print(y_pred[0:10]/100000)\n",
    "print(y_test[0:10]/100000)"
   ]
  },
  {
   "cell_type": "code",
   "execution_count": null,
   "metadata": {},
   "outputs": [],
   "source": [
    "sns.regplot(y_test , y_pred , ci =None ,color = 'blue')"
   ]
  },
  {
   "cell_type": "code",
   "execution_count": null,
   "metadata": {},
   "outputs": [],
   "source": [
    "# Gradient Boosting Regressor\n",
    "from sklearn.ensemble import GradientBoostingRegressor\n",
    "model2 = GradientBoostingRegressor(n_estimators = 80 , loss = 'lad',learning_rate= .2, max_depth = 3)\n",
    "model2.fit(X_train, y_train)"
   ]
  },
  {
   "cell_type": "code",
   "execution_count": 18,
   "metadata": {},
   "outputs": [],
   "source": [
    "y_pred2 = model2.predict(X_test) "
   ]
  },
  {
   "cell_type": "code",
   "execution_count": 19,
   "metadata": {},
   "outputs": [
    {
     "data": {
      "text/plain": [
       "1.2969083582230119"
      ]
     },
     "execution_count": 19,
     "metadata": {},
     "output_type": "execute_result"
    }
   ],
   "source": [
    "mae2 =mean_absolute_error(y_pred2 , y_test)/100000\n",
    "mae2"
   ]
  },
  {
   "cell_type": "code",
   "execution_count": 20,
   "metadata": {},
   "outputs": [
    {
     "name": "stdout",
     "output_type": "stream",
     "text": [
      "[1.04606371 0.96990122 1.43898615 1.7367394  1.87745801 2.48370524\n",
      " 1.46953289 3.85730103 2.13636798 1.98286737]\n",
      "26892     1.00\n",
      "26893     0.75\n",
      "26894     4.50\n",
      "26895     6.00\n",
      "26896     8.00\n",
      "26897     0.25\n",
      "26898     1.00\n",
      "26899    13.00\n",
      "26900     1.50\n",
      "26901     1.00\n",
      "Name: cost, dtype: float64\n"
     ]
    }
   ],
   "source": [
    "print(y_pred2[10:20]/100000)\n",
    "print(y_test[10:20]/100000)"
   ]
  },
  {
   "cell_type": "code",
   "execution_count": 21,
   "metadata": {},
   "outputs": [
    {
     "name": "stderr",
     "output_type": "stream",
     "text": [
      "c:\\Users\\7fno\\anaconda3\\lib\\site-packages\\seaborn\\_decorators.py:36: FutureWarning: Pass the following variables as keyword args: x, y. From version 0.12, the only valid positional argument will be `data`, and passing other arguments without an explicit keyword will result in an error or misinterpretation.\n",
      "  warnings.warn(\n"
     ]
    },
    {
     "data": {
      "text/plain": [
       "<AxesSubplot:xlabel='cost'>"
      ]
     },
     "execution_count": 21,
     "metadata": {},
     "output_type": "execute_result"
    },
    {
     "data": {
      "image/png": "[encoded data removed]",
      "text/plain": [
       "<Figure size 432x288 with 1 Axes>"
      ]
     },
     "metadata": {
      "needs_background": "light"
     },
     "output_type": "display_data"
    }
   ],
   "source": [
    "sns.regplot(y_test , y_pred2 ,ci =None ,color = 'red')"
   ]
  },
  {
   "cell_type": "markdown",
   "metadata": {},
   "source": [
    "Decision Tree Regressor"
   ]
  },
  {
   "cell_type": "code",
   "execution_count": 22,
   "metadata": {},
   "outputs": [
    {
     "data": {
      "text/html": [
       "<style>#sk-container-id-3 {color: black;background-color: white;}#sk-container-id-3 pre{padding: 0;}#sk-container-id-3 div.sk-toggleable {background-color: white;}#sk-container-id-3 label.sk-toggleable__label {cursor: pointer;display: block;width: 100%;margin-bottom: 0;padding: 0.3em;box-sizing: border-box;text-align: center;}#sk-container-id-3 label.sk-toggleable__label-arrow:before {content: \"▸\";float: left;margin-right: 0.25em;color: #696969;}#sk-container-id-3 label.sk-toggleable__label-arrow:hover:before {color: black;}#sk-container-id-3 div.sk-estimator:hover label.sk-toggleable__label-arrow:before {color: black;}#sk-container-id-3 div.sk-toggleable__content {max-height: 0;max-width: 0;overflow: hidden;text-align: left;background-color: #f0f8ff;}#sk-container-id-3 div.sk-toggleable__content pre {margin: 0.2em;color: black;border-radius: 0.25em;background-color: #f0f8ff;}#sk-container-id-3 input.sk-toggleable__control:checked~div.sk-toggleable__content {max-height: 200px;max-width: 100%;overflow: auto;}#sk-container-id-3 input.sk-toggleable__control:checked~label.sk-toggleable__label-arrow:before {content: \"▾\";}#sk-container-id-3 div.sk-estimator input.sk-toggleable__control:checked~label.sk-toggleable__label {background-color: #d4ebff;}#sk-container-id-3 div.sk-label input.sk-toggleable__control:checked~label.sk-toggleable__label {background-color: #d4ebff;}#sk-container-id-3 input.sk-hidden--visually {border: 0;clip: rect(1px 1px 1px 1px);clip: rect(1px, 1px, 1px, 1px);height: 1px;margin: -1px;overflow: hidden;padding: 0;position: absolute;width: 1px;}#sk-container-id-3 div.sk-estimator {font-family: monospace;background-color: #f0f8ff;border: 1px dotted black;border-radius: 0.25em;box-sizing: border-box;margin-bottom: 0.5em;}#sk-container-id-3 div.sk-estimator:hover {background-color: #d4ebff;}#sk-container-id-3 div.sk-parallel-item::after {content: \"\";width: 100%;border-bottom: 1px solid gray;flex-grow: 1;}#sk-container-id-3 div.sk-label:hover label.sk-toggleable__label {background-color: #d4ebff;}#sk-container-id-3 div.sk-serial::before {content: \"\";position: absolute;border-left: 1px solid gray;box-sizing: border-box;top: 0;bottom: 0;left: 50%;z-index: 0;}#sk-container-id-3 div.sk-serial {display: flex;flex-direction: column;align-items: center;background-color: white;padding-right: 0.2em;padding-left: 0.2em;position: relative;}#sk-container-id-3 div.sk-item {position: relative;z-index: 1;}#sk-container-id-3 div.sk-parallel {display: flex;align-items: stretch;justify-content: center;background-color: white;position: relative;}#sk-container-id-3 div.sk-item::before, #sk-container-id-3 div.sk-parallel-item::before {content: \"\";position: absolute;border-left: 1px solid gray;box-sizing: border-box;top: 0;bottom: 0;left: 50%;z-index: -1;}#sk-container-id-3 div.sk-parallel-item {display: flex;flex-direction: column;z-index: 1;position: relative;background-color: white;}#sk-container-id-3 div.sk-parallel-item:first-child::after {align-self: flex-end;width: 50%;}#sk-container-id-3 div.sk-parallel-item:last-child::after {align-self: flex-start;width: 50%;}#sk-container-id-3 div.sk-parallel-item:only-child::after {width: 0;}#sk-container-id-3 div.sk-dashed-wrapped {border: 1px dashed gray;margin: 0 0.4em 0.5em 0.4em;box-sizing: border-box;padding-bottom: 0.4em;background-color: white;}#sk-container-id-3 div.sk-label label {font-family: monospace;font-weight: bold;display: inline-block;line-height: 1.2em;}#sk-container-id-3 div.sk-label-container {text-align: center;}#sk-container-id-3 div.sk-container {/* jupyter's `normalize.less` sets `[hidden] { display: none; }` but bootstrap.min.css set `[hidden] { display: none !important; }` so we also need the `!important` here to be able to override the default hidden behavior on the sphinx rendered scikit-learn.org. See: https://github.com/scikit-learn/scikit-learn/issues/21755 */display: inline-block !important;position: relative;}#sk-container-id-3 div.sk-text-repr-fallback {display: none;}</style><div id=\"sk-container-id-3\" class=\"sk-top-container\"><div class=\"sk-text-repr-fallback\"><pre>DecisionTreeRegressor(max_depth=10, random_state=44)</pre><b>In a Jupyter environment, please rerun this cell to show the HTML representation or trust the notebook. <br />On GitHub, the HTML representation is unable to render, please try loading this page with nbviewer.org.</b></div><div class=\"sk-container\" hidden><div class=\"sk-item\"><div class=\"sk-estimator sk-toggleable\"><input class=\"sk-toggleable__control sk-hidden--visually\" id=\"sk-estimator-id-3\" type=\"checkbox\" checked><label for=\"sk-estimator-id-3\" class=\"sk-toggleable__label sk-toggleable__label-arrow\">DecisionTreeRegressor</label><div class=\"sk-toggleable__content\"><pre>DecisionTreeRegressor(max_depth=10, random_state=44)</pre></div></div></div></div></div>"
      ],
      "text/plain": [
       "DecisionTreeRegressor(max_depth=10, random_state=44)"
      ]
     },
     "execution_count": 22,
     "metadata": {},
     "output_type": "execute_result"
    }
   ],
   "source": [
    "#DECISIO TREE REGRESSOR\n",
    "from sklearn.tree import DecisionTreeRegressor\n",
    "model3 = DecisionTreeRegressor (max_depth=10,random_state = 44)\n",
    "model3.fit(X_train,y_train)\n",
    "\n"
   ]
  },
  {
   "cell_type": "code",
   "execution_count": 23,
   "metadata": {},
   "outputs": [],
   "source": [
    "y_pred3 = model3.predict(X_test)\n"
   ]
  },
  {
   "cell_type": "code",
   "execution_count": 24,
   "metadata": {},
   "outputs": [
    {
     "data": {
      "text/plain": [
       "3.226389301350356"
      ]
     },
     "execution_count": 24,
     "metadata": {},
     "output_type": "execute_result"
    }
   ],
   "source": [
    "mae3 = mean_absolute_error(y_pred3,y_test) /100000\n",
    "mae3"
   ]
  },
  {
   "cell_type": "code",
   "execution_count": 25,
   "metadata": {},
   "outputs": [
    {
     "name": "stdout",
     "output_type": "stream",
     "text": [
      "[ 2.23378378  1.40202096  5.79230769  1.40202096  2.15789474  2.85843373\n",
      "  1.25       10.5326087   1.36689189  1.45212766]\n",
      "26892     1.00\n",
      "26893     0.75\n",
      "26894     4.50\n",
      "26895     6.00\n",
      "26896     8.00\n",
      "26897     0.25\n",
      "26898     1.00\n",
      "26899    13.00\n",
      "26900     1.50\n",
      "26901     1.00\n",
      "Name: cost, dtype: float64\n"
     ]
    }
   ],
   "source": [
    "print(y_pred3[10:20]/100000)\n",
    "print(y_test[10:20]/100000)"
   ]
  },
  {
   "cell_type": "code",
   "execution_count": 26,
   "metadata": {},
   "outputs": [
    {
     "name": "stderr",
     "output_type": "stream",
     "text": [
      "c:\\Users\\7fno\\anaconda3\\lib\\site-packages\\seaborn\\_decorators.py:36: FutureWarning: Pass the following variables as keyword args: x, y. From version 0.12, the only valid positional argument will be `data`, and passing other arguments without an explicit keyword will result in an error or misinterpretation.\n",
      "  warnings.warn(\n"
     ]
    },
    {
     "data": {
      "text/plain": [
       "<AxesSubplot:xlabel='cost'>"
      ]
     },
     "execution_count": 26,
     "metadata": {},
     "output_type": "execute_result"
    },
    {
     "data": {
      "image/png": "[encoded data removed]",
      "text/plain": [
       "<Figure size 432x288 with 1 Axes>"
      ]
     },
     "metadata": {
      "needs_background": "light"
     },
     "output_type": "display_data"
    }
   ],
   "source": [
    "sns.regplot(y_test , y_pred3 ,ci =None ,color = 'green')"
   ]
  },
  {
   "cell_type": "code",
   "execution_count": 27,
   "metadata": {},
   "outputs": [
    {
     "data": {
      "text/html": [
       "<style>#sk-container-id-4 {color: black;background-color: white;}#sk-container-id-4 pre{padding: 0;}#sk-container-id-4 div.sk-toggleable {background-color: white;}#sk-container-id-4 label.sk-toggleable__label {cursor: pointer;display: block;width: 100%;margin-bottom: 0;padding: 0.3em;box-sizing: border-box;text-align: center;}#sk-container-id-4 label.sk-toggleable__label-arrow:before {content: \"▸\";float: left;margin-right: 0.25em;color: #696969;}#sk-container-id-4 label.sk-toggleable__label-arrow:hover:before {color: black;}#sk-container-id-4 div.sk-estimator:hover label.sk-toggleable__label-arrow:before {color: black;}#sk-container-id-4 div.sk-toggleable__content {max-height: 0;max-width: 0;overflow: hidden;text-align: left;background-color: #f0f8ff;}#sk-container-id-4 div.sk-toggleable__content pre {margin: 0.2em;color: black;border-radius: 0.25em;background-color: #f0f8ff;}#sk-container-id-4 input.sk-toggleable__control:checked~div.sk-toggleable__content {max-height: 200px;max-width: 100%;overflow: auto;}#sk-container-id-4 input.sk-toggleable__control:checked~label.sk-toggleable__label-arrow:before {content: \"▾\";}#sk-container-id-4 div.sk-estimator input.sk-toggleable__control:checked~label.sk-toggleable__label {background-color: #d4ebff;}#sk-container-id-4 div.sk-label input.sk-toggleable__control:checked~label.sk-toggleable__label {background-color: #d4ebff;}#sk-container-id-4 input.sk-hidden--visually {border: 0;clip: rect(1px 1px 1px 1px);clip: rect(1px, 1px, 1px, 1px);height: 1px;margin: -1px;overflow: hidden;padding: 0;position: absolute;width: 1px;}#sk-container-id-4 div.sk-estimator {font-family: monospace;background-color: #f0f8ff;border: 1px dotted black;border-radius: 0.25em;box-sizing: border-box;margin-bottom: 0.5em;}#sk-container-id-4 div.sk-estimator:hover {background-color: #d4ebff;}#sk-container-id-4 div.sk-parallel-item::after {content: \"\";width: 100%;border-bottom: 1px solid gray;flex-grow: 1;}#sk-container-id-4 div.sk-label:hover label.sk-toggleable__label {background-color: #d4ebff;}#sk-container-id-4 div.sk-serial::before {content: \"\";position: absolute;border-left: 1px solid gray;box-sizing: border-box;top: 0;bottom: 0;left: 50%;z-index: 0;}#sk-container-id-4 div.sk-serial {display: flex;flex-direction: column;align-items: center;background-color: white;padding-right: 0.2em;padding-left: 0.2em;position: relative;}#sk-container-id-4 div.sk-item {position: relative;z-index: 1;}#sk-container-id-4 div.sk-parallel {display: flex;align-items: stretch;justify-content: center;background-color: white;position: relative;}#sk-container-id-4 div.sk-item::before, #sk-container-id-4 div.sk-parallel-item::before {content: \"\";position: absolute;border-left: 1px solid gray;box-sizing: border-box;top: 0;bottom: 0;left: 50%;z-index: -1;}#sk-container-id-4 div.sk-parallel-item {display: flex;flex-direction: column;z-index: 1;position: relative;background-color: white;}#sk-container-id-4 div.sk-parallel-item:first-child::after {align-self: flex-end;width: 50%;}#sk-container-id-4 div.sk-parallel-item:last-child::after {align-self: flex-start;width: 50%;}#sk-container-id-4 div.sk-parallel-item:only-child::after {width: 0;}#sk-container-id-4 div.sk-dashed-wrapped {border: 1px dashed gray;margin: 0 0.4em 0.5em 0.4em;box-sizing: border-box;padding-bottom: 0.4em;background-color: white;}#sk-container-id-4 div.sk-label label {font-family: monospace;font-weight: bold;display: inline-block;line-height: 1.2em;}#sk-container-id-4 div.sk-label-container {text-align: center;}#sk-container-id-4 div.sk-container {/* jupyter's `normalize.less` sets `[hidden] { display: none; }` but bootstrap.min.css set `[hidden] { display: none !important; }` so we also need the `!important` here to be able to override the default hidden behavior on the sphinx rendered scikit-learn.org. See: https://github.com/scikit-learn/scikit-learn/issues/21755 */display: inline-block !important;position: relative;}#sk-container-id-4 div.sk-text-repr-fallback {display: none;}</style><div id=\"sk-container-id-4\" class=\"sk-top-container\"><div class=\"sk-text-repr-fallback\"><pre>KNeighborsRegressor(algorithm=&#x27;kd_tree&#x27;, n_neighbors=10, weights=&#x27;distance&#x27;)</pre><b>In a Jupyter environment, please rerun this cell to show the HTML representation or trust the notebook. <br />On GitHub, the HTML representation is unable to render, please try loading this page with nbviewer.org.</b></div><div class=\"sk-container\" hidden><div class=\"sk-item\"><div class=\"sk-estimator sk-toggleable\"><input class=\"sk-toggleable__control sk-hidden--visually\" id=\"sk-estimator-id-4\" type=\"checkbox\" checked><label for=\"sk-estimator-id-4\" class=\"sk-toggleable__label sk-toggleable__label-arrow\">KNeighborsRegressor</label><div class=\"sk-toggleable__content\"><pre>KNeighborsRegressor(algorithm=&#x27;kd_tree&#x27;, n_neighbors=10, weights=&#x27;distance&#x27;)</pre></div></div></div></div></div>"
      ],
      "text/plain": [
       "KNeighborsRegressor(algorithm='kd_tree', n_neighbors=10, weights='distance')"
      ]
     },
     "execution_count": 27,
     "metadata": {},
     "output_type": "execute_result"
    }
   ],
   "source": [
    "# KNN\n",
    "from sklearn.neighbors import KNeighborsRegressor\n",
    "model4 = KNeighborsRegressor(n_neighbors = 10 , algorithm= 'kd_tree' , weights = 'distance')\n",
    "model4.fit(X_train,y_train)"
   ]
  },
  {
   "cell_type": "code",
   "execution_count": 28,
   "metadata": {},
   "outputs": [],
   "source": [
    "y_pred4 = model4.predict(X_test)\n"
   ]
  },
  {
   "cell_type": "code",
   "execution_count": 29,
   "metadata": {},
   "outputs": [
    {
     "data": {
      "text/plain": [
       "2.5611301774461275"
      ]
     },
     "execution_count": 29,
     "metadata": {},
     "output_type": "execute_result"
    }
   ],
   "source": [
    "mae4 = mean_absolute_error(y_pred4, y_test)/100000\n",
    "mae4"
   ]
  },
  {
   "cell_type": "code",
   "execution_count": 30,
   "metadata": {},
   "outputs": [
    {
     "name": "stdout",
     "output_type": "stream",
     "text": [
      "[ 3.9561897   2.41787864  4.01110407 10.88193912  1.13346273  2.46560873\n",
      "  3.44044599  0.91222394  1.65226115  0.86117514]\n",
      "26882     8.00\n",
      "26883     0.50\n",
      "26884     2.00\n",
      "26885    25.00\n",
      "26886     2.50\n",
      "26887     0.10\n",
      "26888     3.00\n",
      "26889     2.25\n",
      "26890     0.75\n",
      "26891     6.00\n",
      "Name: cost, dtype: float64\n"
     ]
    }
   ],
   "source": [
    "print(y_pred4[0:10]/100000)\n",
    "print(y_test[0:10]/100000)"
   ]
  },
  {
   "cell_type": "code",
   "execution_count": 31,
   "metadata": {},
   "outputs": [
    {
     "name": "stderr",
     "output_type": "stream",
     "text": [
      "c:\\Users\\7fno\\anaconda3\\lib\\site-packages\\seaborn\\_decorators.py:36: FutureWarning: Pass the following variables as keyword args: x, y. From version 0.12, the only valid positional argument will be `data`, and passing other arguments without an explicit keyword will result in an error or misinterpretation.\n",
      "  warnings.warn(\n"
     ]
    },
    {
     "data": {
      "text/plain": [
       "<AxesSubplot:xlabel='cost'>"
      ]
     },
     "execution_count": 31,
     "metadata": {},
     "output_type": "execute_result"
    },
    {
     "data": {
      "image/png": "[encoded data removed]",
      "text/plain": [
       "<Figure size 432x288 with 1 Axes>"
      ]
     },
     "metadata": {
      "needs_background": "light"
     },
     "output_type": "display_data"
    }
   ],
   "source": [
    "sns.regplot(y_test , y_pred4 ,ci =None ,color = 'black')"
   ]
  }
 ],
 "metadata": {
  "kernelspec": {
   "display_name": "Python 3 (ipykernel)",
   "language": "python",
   "name": "python3"
  },
  "language_info": {
   "codemirror_mode": {
    "name": "ipython",
    "version": 3
   },
   "file_extension": ".py",
   "mimetype": "text/x-python",
   "name": "python",
   "nbconvert_exporter": "python",
   "pygments_lexer": "ipython3",
   "version": "3.9.7"
  },
  "varInspector": {
   "cols": {
    "lenName": 16,
    "lenType": 16,
    "lenVar": 40
   },
   "kernels_config": {
    "python": {
     "delete_cmd_postfix": "",
     "delete_cmd_prefix": "del ",
     "library": "var_list.py",
     "varRefreshCmd": "print(var_dic_list())"
    },
    "r": {
     "delete_cmd_postfix": ") ",
     "delete_cmd_prefix": "rm(",
     "library": "var_list.r",
     "varRefreshCmd": "cat(var_dic_list()) "
    }
   },
   "position": {
    "height": "563.844px",
    "left": "1310px",
    "right": "20px",
    "top": "120px",
    "width": "350px"
   },
   "types_to_exclude": [
    "module",
    "function",
    "builtin_function_or_method",
    "instance",
    "_Feature"
   ],
   "window_display": false
  },
  "vscode": {
   "interpreter": {
    "hash": "8e00b6b2a490d4ec4cb3b43d4a804584b0920080a19f8ac1ad1a6e7037ca53b5"
   }
  }
 },
 "nbformat": 4,
 "nbformat_minor": 4
}
